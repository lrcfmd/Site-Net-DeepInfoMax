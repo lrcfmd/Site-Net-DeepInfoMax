{
 "cells": [
  {
   "cell_type": "code",
   "execution_count": 3,
   "metadata": {},
   "outputs": [],
   "source": [
    "import pandas as pd\n",
    "import pymatgen\n",
    "import pickle as pk\n",
    "from matplotlib import pyplot as plt\n",
    "\n",
    "eform_initial = pd.read_csv(\"TSNE_Initial_eform.csv\")\n",
    "egap_initial = pd.read_csv(\"TSNE_Initial_egap.csv\")\n",
    "eform_DIM = pd.read_csv(\"TSNE_nocomp_klnorm_moremultiloss_eform.csv\")\n",
    "egap_DIM = pd.read_csv(\"TSNE_nocomp_klnorm_moremultiloss_egap.csv\")\n",
    "\n",
    "datasets = [eform_initial,egap_initial,eform_DIM,egap_DIM]\n"
   ]
  },
  {
   "cell_type": "code",
   "execution_count": 8,
   "metadata": {},
   "outputs": [],
   "source": [
    "datasets_live = [i.copy(deep=True) for i in datasets]\n",
    "for index in range(len(datasets_live)):\n",
    "    datasets_live[index][\"primitive\"] = datasets_live[index][\"structure\"].apply(lambda x: pk.loads(eval(x)).get_primitive_structure())\n",
    "\n",
    "pk.dump(datasets_live,open(\"TSNE_cache.pk\",\"wb\"))"
   ]
  },
  {
   "cell_type": "code",
   "execution_count": 11,
   "metadata": {},
   "outputs": [
    {
     "name": "stdout",
     "output_type": "stream",
     "text": [
      "       Unnamed: 0          0          1  \\\n",
      "0               0 -29.779669  -1.034696   \n",
      "1               1  18.045847  -9.448955   \n",
      "2               2 -17.811943  -7.204031   \n",
      "3               3 -27.626880  14.416650   \n",
      "4               4 -25.807465  16.175663   \n",
      "...           ...        ...        ...   \n",
      "22264       22264  18.499660  -1.691739   \n",
      "22265       22265 -30.842762   4.893834   \n",
      "22266       22266  12.662216 -17.825560   \n",
      "22267       22267   7.377218  -2.535569   \n",
      "22268       22268  18.174923  -7.981149   \n",
      "\n",
      "                                               structure  \\\n",
      "0      b'\\x80\\x04\\x95M\\x0f\\x00\\x00\\x00\\x00\\x00\\x00\\x8...   \n",
      "1      b'\\x80\\x04\\x95\\xa0\\x12\\x00\\x00\\x00\\x00\\x00\\x00...   \n",
      "2      b\"\\x80\\x04\\x95\\x99\\r\\x00\\x00\\x00\\x00\\x00\\x00\\x...   \n",
      "3      b\"\\x80\\x04\\x95\\xb3\\x15\\x00\\x00\\x00\\x00\\x00\\x00...   \n",
      "4      b'\\x80\\x04\\x95Y\\x0f\\x00\\x00\\x00\\x00\\x00\\x00\\x8...   \n",
      "...                                                  ...   \n",
      "22264  b'\\x80\\x04\\x95\\x18\\x10\\x00\\x00\\x00\\x00\\x00\\x00...   \n",
      "22265  b'\\x80\\x04\\x95\\x10\\x12\\x00\\x00\\x00\\x00\\x00\\x00...   \n",
      "22266  b'\\x80\\x04\\x95\\xb9\\x11\\x00\\x00\\x00\\x00\\x00\\x00...   \n",
      "22267  b'\\x80\\x04\\x95\\x18\\x10\\x00\\x00\\x00\\x00\\x00\\x00...   \n",
      "22268  b'\\x80\\x04\\x95\\xf5\\x16\\x00\\x00\\x00\\x00\\x00\\x00...   \n",
      "\n",
      "                                               primitive  \n",
      "0      [[ 9.32119809 -0.12969449  1.80756759] In, [ 7...  \n",
      "1      [[4.67936579 2.34957358 0.53748047] Ca, [0.595...  \n",
      "2      [[10.49622491 -6.02319446 -4.25904293] S, [ 5....  \n",
      "3      [[-1.72176111 -3.63506772 -5.31367002] Au, [-5...  \n",
      "4      [[-3.85916474 -4.34425791 -4.52126008] Ac, [-2...  \n",
      "...                                                  ...  \n",
      "22264  [[2.17180506e-06 2.08951287e+00 7.38591011e+00...  \n",
      "22265  [[ 1.09215409 -0.94553654  2.88571537] Ir, [2....  \n",
      "22266  [[0. 0. 0.] Li, [4.32670577 0.         0.     ...  \n",
      "22267  [[-3.51050682 -3.51050682 -8.41958071] O, [-1....  \n",
      "22268  [[-8.77805756 -1.67820531 -1.33323944] C, [-0....  \n",
      "\n",
      "[22269 rows x 5 columns]\n"
     ]
    }
   ],
   "source": [
    "datasets_live = pk.load(open(\"TSNE_cache.pk\",\"rb\"))\n",
    "print(datasets_live[0])"
   ]
  },
  {
   "cell_type": "code",
   "execution_count": 12,
   "metadata": {},
   "outputs": [],
   "source": [
    "for dataset in datasets_live:\n",
    "    plt.figure()\n",
    "    dataset[\"property\"] = [i.get_space_group_info()[1]==221 for i in dataset[\"primitive\"]]\n",
    "    plt.scatter(dataset[\"0\"],dataset[\"1\"],s=0.5,c=dataset[\"property\"])"
   ]
  },
  {
   "cell_type": "code",
   "execution_count": 32,
   "metadata": {},
   "outputs": [
    {
     "ename": "TypeError",
     "evalue": "get_settings() missing 1 required positional argument: 'int_symbol'",
     "output_type": "error",
     "traceback": [
      "\u001b[0;31m---------------------------------------------------------------------------\u001b[0m",
      "\u001b[0;31mTypeError\u001b[0m                                 Traceback (most recent call last)",
      "\u001b[1;32m/users/sgmmora2/volatile/clones/Site-Net-/TSNE_production.ipynb Cell 3\u001b[0m in \u001b[0;36m<cell line: 3>\u001b[0;34m()\u001b[0m\n\u001b[1;32m      <a href='vscode-notebook-cell://ssh-remote%2Bbarkla6.liv.ac.uk/users/sgmmora2/volatile/clones/Site-Net-/TSNE_production.ipynb#W2sdnNjb2RlLXJlbW90ZQ%3D%3D?line=0'>1</a>\u001b[0m \u001b[39mfrom\u001b[39;00m \u001b[39mpymatgen\u001b[39;00m\u001b[39m.\u001b[39;00m\u001b[39msymmetry\u001b[39;00m\u001b[39m.\u001b[39;00m\u001b[39mgroups\u001b[39;00m \u001b[39mimport\u001b[39;00m SpaceGroup\n\u001b[0;32m----> <a href='vscode-notebook-cell://ssh-remote%2Bbarkla6.liv.ac.uk/users/sgmmora2/volatile/clones/Site-Net-/TSNE_production.ipynb#W2sdnNjb2RlLXJlbW90ZQ%3D%3D?line=2'>3</a>\u001b[0m SpaceGroup\u001b[39m.\u001b[39;49mget_settings()\n",
      "\u001b[0;31mTypeError\u001b[0m: get_settings() missing 1 required positional argument: 'int_symbol'"
     ]
    }
   ],
   "source": [
    "from pymatgen.symmetry.groups import SpaceGroup\n",
    "\n",
    "SpaceGroup.get_settings()"
   ]
  }
 ],
 "metadata": {
  "kernelspec": {
   "display_name": "pytorch_2201",
   "language": "python",
   "name": "python3"
  },
  "language_info": {
   "codemirror_mode": {
    "name": "ipython",
    "version": 3
   },
   "file_extension": ".py",
   "mimetype": "text/x-python",
   "name": "python",
   "nbconvert_exporter": "python",
   "pygments_lexer": "ipython3",
   "version": "3.8.12"
  },
  "orig_nbformat": 4
 },
 "nbformat": 4,
 "nbformat_minor": 2
}
